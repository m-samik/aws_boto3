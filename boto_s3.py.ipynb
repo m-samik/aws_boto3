{
 "cells": [
  {
   "cell_type": "code",
   "execution_count": 3,
   "id": "491ac2e2",
   "metadata": {},
   "outputs": [],
   "source": [
    "import boto3"
   ]
  },
  {
   "cell_type": "code",
   "execution_count": 9,
   "id": "2309dee8",
   "metadata": {},
   "outputs": [],
   "source": [
    "s3= boto3.resource('s3')"
   ]
  },
  {
   "cell_type": "code",
   "execution_count": 10,
   "id": "bbc41b78",
   "metadata": {},
   "outputs": [
    {
     "data": {
      "text/plain": [
       "s3.ServiceResource()"
      ]
     },
     "execution_count": 10,
     "metadata": {},
     "output_type": "execute_result"
    }
   ],
   "source": [
    "s3"
   ]
  },
  {
   "cell_type": "code",
   "execution_count": 11,
   "id": "e5c51c7a",
   "metadata": {},
   "outputs": [
    {
     "data": {
      "text/plain": [
       "s3.bucketsCollection(s3.ServiceResource(), s3.Bucket)"
      ]
     },
     "execution_count": 11,
     "metadata": {},
     "output_type": "execute_result"
    }
   ],
   "source": [
    "s3.buckets.all()"
   ]
  },
  {
   "cell_type": "code",
   "execution_count": 15,
   "id": "eff41d76",
   "metadata": {},
   "outputs": [
    {
     "name": "stdout",
     "output_type": "stream",
     "text": [
      "s3.Bucket(name='aiinawsworkshop')\n",
      "s3.Bucket(name='boto3.python')\n",
      "s3.Bucket(name='msamik.me')\n",
      "s3.Bucket(name='mybucketfors3trigger')\n",
      "s3.Bucket(name='mybucketsami')\n"
     ]
    }
   ],
   "source": [
    "for i in s3.buckets.all():\n",
    "    print(i)"
   ]
  },
  {
   "cell_type": "code",
   "execution_count": 14,
   "id": "9638f693",
   "metadata": {},
   "outputs": [
    {
     "data": {
      "text/plain": [
       "s3.Bucket(name='boto3.python')"
      ]
     },
     "execution_count": 14,
     "metadata": {},
     "output_type": "execute_result"
    }
   ],
   "source": [
    "s3.create_bucket(Bucket='boto3.python',\n",
    "                 CreateBucketConfiguration={'LocationConstraint': 'ap-south-1'})"
   ]
  },
  {
   "cell_type": "code",
   "execution_count": 45,
   "id": "cd4cef16",
   "metadata": {},
   "outputs": [],
   "source": [
    "bucket=s3.Bucket('boto3.python')"
   ]
  },
  {
   "cell_type": "code",
   "execution_count": 18,
   "id": "aa4b5e96",
   "metadata": {},
   "outputs": [],
   "source": [
    "image = open('img.png','rb')"
   ]
  },
  {
   "cell_type": "code",
   "execution_count": 20,
   "id": "8cb82d4f",
   "metadata": {},
   "outputs": [
    {
     "data": {
      "text/plain": [
       "s3.Object(bucket_name='boto3.python', key='test_image.png')"
      ]
     },
     "execution_count": 20,
     "metadata": {},
     "output_type": "execute_result"
    }
   ],
   "source": [
    "bucket.put_object(Key = 'test_image.png' , Body = image)"
   ]
  },
  {
   "cell_type": "code",
   "execution_count": 22,
   "id": "82093d22",
   "metadata": {},
   "outputs": [
    {
     "data": {
      "text/plain": [
       "s3.Bucket(name='boto3.python')"
      ]
     },
     "execution_count": 22,
     "metadata": {},
     "output_type": "execute_result"
    }
   ],
   "source": [
    "bucket"
   ]
  },
  {
   "cell_type": "code",
   "execution_count": 40,
   "id": "fcc2c1ff",
   "metadata": {},
   "outputs": [
    {
     "data": {
      "text/plain": [
       "s3.Bucket.objectsCollection(s3.Bucket(name='boto3.python'), s3.ObjectSummary)"
      ]
     },
     "execution_count": 40,
     "metadata": {},
     "output_type": "execute_result"
    }
   ],
   "source": [
    "bucket.objects.all()"
   ]
  },
  {
   "cell_type": "code",
   "execution_count": 33,
   "id": "80b65e9b",
   "metadata": {},
   "outputs": [
    {
     "name": "stdout",
     "output_type": "stream",
     "text": [
      "Bucket Name : boto3.python\tData :  test_image.png\n"
     ]
    }
   ],
   "source": [
    "for i in bucket.objects.all():\n",
    "    print(\"Bucket Name : \"+i.bucket_name + \"\\tData :  \"+ i.key)"
   ]
  },
  {
   "cell_type": "code",
   "execution_count": 48,
   "id": "c0d8ceb2",
   "metadata": {},
   "outputs": [],
   "source": [
    "myobject=bucket.Object('test_image.png')"
   ]
  },
  {
   "cell_type": "code",
   "execution_count": 49,
   "id": "a5d41722",
   "metadata": {},
   "outputs": [],
   "source": [
    "myobject.download_file('test_image.png')"
   ]
  },
  {
   "cell_type": "code",
   "execution_count": null,
   "id": "9cab535f",
   "metadata": {},
   "outputs": [],
   "source": []
  }
 ],
 "metadata": {
  "kernelspec": {
   "display_name": "Python 3",
   "language": "python",
   "name": "python3"
  },
  "language_info": {
   "codemirror_mode": {
    "name": "ipython",
    "version": 3
   },
   "file_extension": ".py",
   "mimetype": "text/x-python",
   "name": "python",
   "nbconvert_exporter": "python",
   "pygments_lexer": "ipython3",
   "version": "3.8.5"
  }
 },
 "nbformat": 4,
 "nbformat_minor": 5
}
